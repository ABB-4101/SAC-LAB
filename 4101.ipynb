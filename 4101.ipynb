{
 "cells": [
  {
   "cell_type": "code",
   "execution_count": 1,
   "id": "cc7c5d0b",
   "metadata": {},
   "outputs": [
    {
     "name": "stderr",
     "output_type": "stream",
     "text": [
      "'python--version' is not recognized as an internal or external command,\n",
      "operable program or batch file.\n"
     ]
    }
   ],
   "source": [
    "!python--version"
   ]
  },
  {
   "cell_type": "code",
   "execution_count": 8,
   "id": "817af98f",
   "metadata": {
    "scrolled": true
   },
   "outputs": [
    {
     "name": "stdout",
     "output_type": "stream",
     "text": [
      "Python 3.11.4\n"
     ]
    }
   ],
   "source": [
    "!python --version"
   ]
  },
  {
   "cell_type": "code",
   "execution_count": 10,
   "id": "fdaf191a",
   "metadata": {},
   "outputs": [
    {
     "name": "stdout",
     "output_type": "stream",
     "text": [
      "welcome to python lab\n"
     ]
    }
   ],
   "source": [
    "print(\"welcome to python lab\")"
   ]
  },
  {
   "cell_type": "code",
   "execution_count": 11,
   "id": "98b463aa",
   "metadata": {},
   "outputs": [
    {
     "name": "stdout",
     "output_type": "stream",
     "text": [
      "Hi  how are you ding?\n"
     ]
    }
   ],
   "source": [
    "print(\"Hi\",\"how are you ding?\", sep=\"  \")"
   ]
  },
  {
   "cell_type": "code",
   "execution_count": 14,
   "id": "d2401421",
   "metadata": {},
   "outputs": [
    {
     "name": "stdout",
     "output_type": "stream",
     "text": [
      "Hello world\n"
     ]
    }
   ],
   "source": [
    "print(\"Hello\",end=\" \")\n",
    "print(\"world\")"
   ]
  },
  {
   "cell_type": "code",
   "execution_count": 16,
   "id": "ca3948b2",
   "metadata": {},
   "outputs": [
    {
     "name": "stdout",
     "output_type": "stream",
     "text": [
      "['False', 'None', 'True', 'and', 'as', 'assert', 'async', 'await', 'break', 'class', 'continue', 'def', 'del', 'elif', 'else', 'except', 'finally', 'for', 'from', 'global', 'if', 'import', 'in', 'is', 'lambda', 'nonlocal', 'not', 'or', 'pass', 'raise', 'return', 'try', 'while', 'with', 'yield']\n",
      "35\n"
     ]
    }
   ],
   "source": [
    "import keyword\n",
    "print(keyword.kwlist)\n",
    "print(len(keyword.kwlist))"
   ]
  },
  {
   "cell_type": "code",
   "execution_count": 17,
   "id": "97cf41a6",
   "metadata": {},
   "outputs": [
    {
     "name": "stdout",
     "output_type": "stream",
     "text": [
      "python\n"
     ]
    }
   ],
   "source": [
    "x = 3\n",
    "x = \"python\"\n",
    "print(x)"
   ]
  },
  {
   "cell_type": "code",
   "execution_count": 20,
   "id": "1a921670",
   "metadata": {},
   "outputs": [
    {
     "name": "stdout",
     "output_type": "stream",
     "text": [
      "python\n",
      "python\n",
      "python\n"
     ]
    }
   ],
   "source": [
    "myvar =\"python\"\n",
    "my_var =\"python\"\n",
    "_my_var =\"python\"\n",
    "print(myvar)\n",
    "print(my_var)\n",
    "print(_my_var)"
   ]
  },
  {
   "cell_type": "code",
   "execution_count": 23,
   "id": "e838bd77",
   "metadata": {},
   "outputs": [
    {
     "name": "stdout",
     "output_type": "stream",
     "text": [
      "python\n",
      "python\n",
      "python\n"
     ]
    }
   ],
   "source": [
    "myvar=\"python\"\n",
    "my_var=\"python\"\n",
    "my__var=\"python\"\n",
    "print(myvar)\n",
    "print(my_var)\n",
    "print(my__var)"
   ]
  },
  {
   "cell_type": "code",
   "execution_count": 24,
   "id": "08d095d1",
   "metadata": {},
   "outputs": [
    {
     "name": "stdout",
     "output_type": "stream",
     "text": [
      "<class 'str'>\n",
      "3\n",
      "3.0\n"
     ]
    }
   ],
   "source": [
    "x = str(3)\n",
    "y = int(3)\n",
    "z = float(3)\n",
    "print(type(x))\n",
    "print(y)\n",
    "print(z)"
   ]
  },
  {
   "cell_type": "code",
   "execution_count": 1,
   "id": "15e22e7e",
   "metadata": {},
   "outputs": [
    {
     "name": "stdout",
     "output_type": "stream",
     "text": [
      "<class 'int'>\n",
      "<class 'str'>\n"
     ]
    }
   ],
   "source": [
    "x = 5\n",
    "y = \"AI-B\"\n",
    "print(type(x))\n",
    "print(type(y))"
   ]
  },
  {
   "cell_type": "code",
   "execution_count": 2,
   "id": "5935a0f4",
   "metadata": {},
   "outputs": [
    {
     "name": "stdout",
     "output_type": "stream",
     "text": [
      "we dont know\n",
      "thats real\n",
      "omg\n",
      "<class 'str'>\n",
      "<class 'str'>\n",
      "<class 'str'>\n"
     ]
    }
   ],
   "source": [
    "x = \"we dont know\"\n",
    "print(x)\n",
    "\n",
    "y = 'thats real'\n",
    "print(y)\n",
    "\n",
    "z = 'omg'\n",
    "print(z)\n",
    "print(type(x))\n",
    "print(type(y))\n",
    "print(type(z))"
   ]
  },
  {
   "cell_type": "code",
   "execution_count": 3,
   "id": "2fa3fa60",
   "metadata": {},
   "outputs": [
    {
     "name": "stdout",
     "output_type": "stream",
     "text": [
      "hi\n",
      "hello\n",
      "hey\n"
     ]
    }
   ],
   "source": [
    "x , y , z = 'hi','hello','hey'\n",
    "print(x)\n",
    "print(y)\n",
    "print(z)"
   ]
  },
  {
   "cell_type": "code",
   "execution_count": 6,
   "id": "009d6001",
   "metadata": {},
   "outputs": [
    {
     "name": "stdout",
     "output_type": "stream",
     "text": [
      "phesmatos\n",
      "phesmatos\n",
      "phesmatos\n"
     ]
    }
   ],
   "source": [
    "x = y = z = 'phesmatos'\n",
    "print(x)\n",
    "print(y) \n",
    "print(z)"
   ]
  },
  {
   "cell_type": "code",
   "execution_count": 7,
   "id": "b38691a9",
   "metadata": {},
   "outputs": [
    {
     "name": "stdout",
     "output_type": "stream",
     "text": [
      "python in the beginning is boring\n"
     ]
    }
   ],
   "source": [
    "x = 'python in'\n",
    "y = 'the beginning'\n",
    "z = 'is boring'\n",
    "print(x,y,z)"
   ]
  },
  {
   "cell_type": "code",
   "execution_count": 8,
   "id": "2dc1a510",
   "metadata": {},
   "outputs": [
    {
     "name": "stdout",
     "output_type": "stream",
     "text": [
      "<class 'complex'>\n"
     ]
    }
   ],
   "source": [
    "x = 2 + 3j\n",
    "print(type(x))"
   ]
  },
  {
   "cell_type": "code",
   "execution_count": 9,
   "id": "4238d0f7",
   "metadata": {},
   "outputs": [
    {
     "name": "stdout",
     "output_type": "stream",
     "text": [
      "<class 'bool'>\n"
     ]
    }
   ],
   "source": [
    "s = True\n",
    "print(type(s))"
   ]
  },
  {
   "cell_type": "code",
   "execution_count": 10,
   "id": "8cc0c47a",
   "metadata": {},
   "outputs": [
    {
     "name": "stdout",
     "output_type": "stream",
     "text": [
      "<class 'bool'>\n"
     ]
    }
   ],
   "source": [
    "y = False\n",
    "print(type(y))"
   ]
  },
  {
   "cell_type": "code",
   "execution_count": 11,
   "id": "341f7059",
   "metadata": {},
   "outputs": [
    {
     "name": "stdout",
     "output_type": "stream",
     "text": [
      "hi there\n",
      "    how am i?\n"
     ]
    }
   ],
   "source": [
    "t = \"\"\"hi there\n",
    "    how am i?\"\"\"\n",
    "print(t)"
   ]
  },
  {
   "cell_type": "code",
   "execution_count": 13,
   "id": "adc58099",
   "metadata": {},
   "outputs": [
    {
     "name": "stdout",
     "output_type": "stream",
     "text": [
      "<class 'NoneType'>\n",
      "None\n"
     ]
    }
   ],
   "source": [
    "money=None\n",
    "print(type(money))\n",
    "print(money)"
   ]
  },
  {
   "cell_type": "code",
   "execution_count": 15,
   "id": "23e9c753",
   "metadata": {},
   "outputs": [
    {
     "name": "stdout",
     "output_type": "stream",
     "text": [
      "enter your name: heisenberg\n",
      "welcome heisenberg\n"
     ]
    }
   ],
   "source": [
    "name=input(\"enter your name: \")\n",
    "print(\"welcome\",name)"
   ]
  },
  {
   "cell_type": "code",
   "execution_count": 16,
   "id": "1179ea6e",
   "metadata": {},
   "outputs": [
    {
     "name": "stdout",
     "output_type": "stream",
     "text": [
      "enter the value of a:23\n",
      "enter the value of b:34\n",
      "57\n"
     ]
    }
   ],
   "source": [
    "a = int (input(\"enter the value of a:\"))\n",
    "b = int (input(\"enter the value of b:\"))\n",
    "\n",
    "print(a+b)\n"
   ]
  },
  {
   "cell_type": "code",
   "execution_count": 17,
   "id": "c9b87d98",
   "metadata": {},
   "outputs": [
    {
     "name": "stdout",
     "output_type": "stream",
     "text": [
      "What is your passion?cybermahn\n",
      "enter your name:abb\n",
      "hi I am abb and cybermahn is my passion\n"
     ]
    }
   ],
   "source": [
    "passion=input(\"What is your passion?\")\n",
    "name=input(\"enter your name:\")\n",
    "print(\"hi I am {0} and {1} is my passion\".format(name,passion))"
   ]
  },
  {
   "cell_type": "code",
   "execution_count": 19,
   "id": "cf4f8be7",
   "metadata": {},
   "outputs": [
    {
     "name": "stdout",
     "output_type": "stream",
     "text": [
      "enter the radius of the circle3\n",
      "the area of circle is 28.2735\n"
     ]
    }
   ],
   "source": [
    "r = int(input(\"enter the radius of the circle\"))\n",
    "area = 3.1415*r*r\n",
    "print(f\"the area of circle is {area}\")"
   ]
  },
  {
   "cell_type": "code",
   "execution_count": 2,
   "id": "d1557684",
   "metadata": {},
   "outputs": [
    {
     "name": "stdout",
     "output_type": "stream",
     "text": [
      "enter the radius of the circle 5\n",
      "the area of circle is 78.540\n"
     ]
    }
   ],
   "source": [
    "import math\n",
    "r = int(input(\"enter the radius of the circle \"))\n",
    "area = math.pi*r*r\n",
    "print(f\"the area of circle is {area:.3f}\")"
   ]
  },
  {
   "cell_type": "code",
   "execution_count": 5,
   "id": "3e19f63e",
   "metadata": {},
   "outputs": [
    {
     "name": "stdout",
     "output_type": "stream",
     "text": [
      "Enter number of days 549\n",
      "years = 1 , weeks = 26 , days = 2\n"
     ]
    }
   ],
   "source": [
    "numberofdays = int(input(\"Enter number of days \"))\n",
    "numberofyears = int(numberofdays/365)\n",
    "numberofweeks = int(numberofdays % 364 / 7)\n",
    "remainingnumberofdays = int (numberofdays %365 %7)\n",
    "print(f\"years = {numberofyears} , weeks = {numberofweeks} , days = {remainingnumberofdays}\")"
   ]
  },
  {
   "cell_type": "code",
   "execution_count": 7,
   "id": "571739f1",
   "metadata": {},
   "outputs": [
    {
     "name": "stdout",
     "output_type": "stream",
     "text": [
      "enter your bith year3424\n",
      "you are -1399 years old\n"
     ]
    }
   ],
   "source": [
    "birthyear = input(\"enter your bith year\")\n",
    "birthyear = int(birthyear)\n",
    "currentyear = 2025\n",
    "age= currentyear-birthyear\n",
    "print(f\"you are {age} years old\")"
   ]
  },
  {
   "cell_type": "code",
   "execution_count": 9,
   "id": "29c4ca20",
   "metadata": {},
   "outputs": [
    {
     "name": "stdout",
     "output_type": "stream",
     "text": [
      "enter total marks:600\n",
      "enter the marks obtained450.76\n",
      "Exact percantage: 75.13%\n",
      "Whole percentage shown on report: 75\n"
     ]
    }
   ],
   "source": [
    "totalmarks=int(input(\"enter total marks:\"))\n",
    "marksobtained=float(input(\"enter the marks obtained\"))\n",
    "percentage=(marksobtained/totalmarks)*100\n",
    "wholepercentage=int(percentage)\n",
    "\n",
    "print(f\"Exact percantage: {percentage:.2f}%\")\n",
    "print(f\"Whole percentage shown on report: {wholepercentage}%\")"
   ]
  },
  {
   "cell_type": "code",
   "execution_count": 11,
   "id": "b5658401",
   "metadata": {},
   "outputs": [
    {
     "name": "stdout",
     "output_type": "stream",
     "text": [
      "I am 25 years old\n"
     ]
    }
   ],
   "source": [
    "age = 25\n",
    "print (\"I am \"+str(age)+\" years old\")"
   ]
  },
  {
   "cell_type": "code",
   "execution_count": 12,
   "id": "812668a8",
   "metadata": {},
   "outputs": [
    {
     "name": "stdout",
     "output_type": "stream",
     "text": [
      "Enter an integer between 0 and 25537\n",
      "The ASCII charachter for 37 is %\n"
     ]
    }
   ],
   "source": [
    "num=int(input(\"Enter an integer between 0 and 255\"))\n",
    "char=chr(num)\n",
    "print(f\"The ASCII charachter for {num} is {char}\")"
   ]
  },
  {
   "cell_type": "code",
   "execution_count": 18,
   "id": "b35f2a87",
   "metadata": {},
   "outputs": [
    {
     "name": "stdout",
     "output_type": "stream",
     "text": [
      "Complex number (real+imag): (3+7j)\n"
     ]
    }
   ],
   "source": [
    "c1=complex(3,7)\n",
    "print(\"Complex number (real+imag):\",c1)"
   ]
  },
  {
   "cell_type": "code",
   "execution_count": 19,
   "id": "29e88a34",
   "metadata": {},
   "outputs": [
    {
     "name": "stdout",
     "output_type": "stream",
     "text": [
      "complex number from string: (5+6j)\n"
     ]
    }
   ],
   "source": [
    "c2=complex(\"5+6j\")\n",
    "print(\"complex number from string:\",c2)"
   ]
  },
  {
   "cell_type": "code",
   "execution_count": 20,
   "id": "be6c7829",
   "metadata": {},
   "outputs": [
    {
     "name": "stdout",
     "output_type": "stream",
     "text": [
      "complex number with only real part: (7+0j)\n"
     ]
    }
   ],
   "source": [
    "c3=complex(7)\n",
    "print(\"complex number with only real part:\",c3)"
   ]
  },
  {
   "cell_type": "code",
   "execution_count": 21,
   "id": "394a577b",
   "metadata": {},
   "outputs": [
    {
     "name": "stdout",
     "output_type": "stream",
     "text": [
      "complex number with no arguments 0j\n"
     ]
    }
   ],
   "source": [
    "c4=complex()\n",
    "print(\"complex number with no arguments\",c4)"
   ]
  },
  {
   "cell_type": "code",
   "execution_count": 22,
   "id": "77e06ef0",
   "metadata": {},
   "outputs": [
    {
     "name": "stdout",
     "output_type": "stream",
     "text": [
      "complex number from floats: (2.4+4.6j)\n"
     ]
    }
   ],
   "source": [
    "c5=complex(2.4,4.6)\n",
    "print(\"complex number from floats:\",c5)"
   ]
  },
  {
   "cell_type": "code",
   "execution_count": 27,
   "id": "7fa7f4cc",
   "metadata": {},
   "outputs": [
    {
     "name": "stdout",
     "output_type": "stream",
     "text": [
      "52\n",
      "90\n",
      "36\n"
     ]
    }
   ],
   "source": [
    "uniforinteger = ord('4')\n",
    "uniforalphabet = ord(\"Z\")\n",
    "uniforcharacter = ord(\"$\")\n",
    "print(uniforinteger)\n",
    "print(uniforalphabet)\n",
    "print(uniforcharacter)"
   ]
  },
  {
   "cell_type": "code",
   "execution_count": 29,
   "id": "1c87abef",
   "metadata": {},
   "outputs": [
    {
     "name": "stdout",
     "output_type": "stream",
     "text": [
      "2154741491568\n",
      "0x1f5b099e770\n"
     ]
    }
   ],
   "source": [
    "id_val = id(\"hello\")\n",
    "print(id_val)\n",
    "print(hex(id_val))"
   ]
  },
  {
   "cell_type": "code",
   "execution_count": 31,
   "id": "cf9d4c9b",
   "metadata": {},
   "outputs": [
    {
     "name": "stdout",
     "output_type": "stream",
     "text": [
      "102 in hexadecimal is 0x66\n"
     ]
    }
   ],
   "source": [
    "a=102    #divide with 16\n",
    "print(f\"{a} in hexadecimal is {hex(a)}\") "
   ]
  },
  {
   "cell_type": "code",
   "execution_count": 32,
   "id": "a4326606",
   "metadata": {},
   "outputs": [
    {
     "name": "stdout",
     "output_type": "stream",
     "text": [
      "0o31\n"
     ]
    }
   ],
   "source": [
    "num = 25\n",
    "print(oct(num))  #output will include '0o' divide with 8\n"
   ]
  },
  {
   "cell_type": "code",
   "execution_count": null,
   "id": "84687388",
   "metadata": {},
   "outputs": [],
   "source": []
  }
 ],
 "metadata": {
  "kernelspec": {
   "display_name": "Python 3 (ipykernel)",
   "language": "python",
   "name": "python3"
  },
  "language_info": {
   "codemirror_mode": {
    "name": "ipython",
    "version": 3
   },
   "file_extension": ".py",
   "mimetype": "text/x-python",
   "name": "python",
   "nbconvert_exporter": "python",
   "pygments_lexer": "ipython3",
   "version": "3.11.4"
  }
 },
 "nbformat": 4,
 "nbformat_minor": 5
}
